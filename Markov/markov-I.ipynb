{
 "cells": [
  {
   "cell_type": "code",
   "execution_count": 1,
   "id": "4995a131",
   "metadata": {},
   "outputs": [
    {
     "name": "stdout",
     "output_type": "stream",
     "text": [
      "mayu apple mayu banana mayu orange mayu rabbit mayu cake\n"
     ]
    }
   ],
   "source": [
    "import numpy as np\n",
    "word = \"mayu apple mayu banana mayu orange mayu rabbit mayu cake\"\n",
    "print(word)"
   ]
  },
  {
   "cell_type": "code",
   "execution_count": 2,
   "id": "76796036",
   "metadata": {},
   "outputs": [
    {
     "name": "stdout",
     "output_type": "stream",
     "text": [
      "['mayu', 'apple', 'mayu', 'banana', 'mayu', 'orange', 'mayu', 'rabbit', 'mayu', 'cake']\n"
     ]
    }
   ],
   "source": [
    "corpus = word.split()\n",
    "print(corpus)"
   ]
  },
  {
   "cell_type": "code",
   "execution_count": 11,
   "id": "408ac243",
   "metadata": {},
   "outputs": [
    {
     "name": "stdout",
     "output_type": "stream",
     "text": [
      "<generator object make_pairs at 0x0000026F723CB900>\n",
      "{'mayu': ['apple', 'banana', 'orange', 'rabbit', 'cake'], 'apple': ['mayu'], 'banana': ['mayu'], 'orange': ['mayu'], 'rabbit': ['mayu']}\n",
      "{'mayu': ['apple', 'banana', 'orange', 'rabbit', 'cake'], 'apple': ['mayu'], 'banana': ['mayu'], 'orange': ['mayu'], 'rabbit': ['mayu'], 'cake': ['end']}\n"
     ]
    }
   ],
   "source": [
    "def make_pairs(corpus):\n",
    "    for i in range(len(corpus)-1):\n",
    "        yield (corpus[i], corpus[i+1])\n",
    "        \n",
    "pairs = make_pairs(corpus)\n",
    "print(pairs)\n",
    "word_dict = {}\n",
    "for word_1, word_2 in pairs:\n",
    "    if word_1 in word_dict.keys():\n",
    "        word_dict[word_1].append(word_2)\n",
    "    else: \n",
    "        word_dict[word_1] = [word_2]\n",
    "print(word_dict)\n",
    "word_dict[\"cake\"] =[\"end\"]\n",
    "print(word_dict)"
   ]
  },
  {
   "cell_type": "code",
   "execution_count": 4,
   "id": "61428642",
   "metadata": {},
   "outputs": [],
   "source": [
    "\n",
    "\n",
    "#\n",
    "#    if word_1 in word_dict.keys():\n",
    "#        word_dict[word_1].append(word_2)\n",
    "#    else: \n",
    " #       word_dict[word_1] = [word_2]\n",
    "#print(word_dict)"
   ]
  },
  {
   "cell_type": "code",
   "execution_count": 5,
   "id": "f34b484e",
   "metadata": {},
   "outputs": [
    {
     "name": "stdout",
     "output_type": "stream",
     "text": [
      "mayu\n"
     ]
    }
   ],
   "source": [
    "first_word = np.random.choice(corpus)\n",
    "first_word = \"mayu\"\n",
    "print(first_word)"
   ]
  },
  {
   "cell_type": "code",
   "execution_count": null,
   "id": "6e08e97a",
   "metadata": {},
   "outputs": [],
   "source": [
    "while first_word.islower():\n",
    "        first_word = np.random.choice(corpus)\n",
    "print(first_word)"
   ]
  },
  {
   "cell_type": "code",
   "execution_count": 17,
   "id": "5ccf78ef",
   "metadata": {},
   "outputs": [],
   "source": [
    "chain = [first_word]\n",
    "n_words = 8\n",
    "\n",
    "for i in range(n_words):\n",
    "    chain.append(np.random.choice(word_dict[chain[-1]]))"
   ]
  },
  {
   "cell_type": "code",
   "execution_count": 18,
   "id": "5118e31e",
   "metadata": {},
   "outputs": [
    {
     "name": "stdout",
     "output_type": "stream",
     "text": [
      "mayu orange mayu rabbit mayu rabbit mayu orange mayu\n"
     ]
    }
   ],
   "source": [
    "print(\" \".join(chain))"
   ]
  },
  {
   "cell_type": "code",
   "execution_count": null,
   "id": "7301d54e",
   "metadata": {},
   "outputs": [],
   "source": []
  }
 ],
 "metadata": {
  "kernelspec": {
   "display_name": "Python 3 (ipykernel)",
   "language": "python",
   "name": "python3"
  },
  "language_info": {
   "codemirror_mode": {
    "name": "ipython",
    "version": 3
   },
   "file_extension": ".py",
   "mimetype": "text/x-python",
   "name": "python",
   "nbconvert_exporter": "python",
   "pygments_lexer": "ipython3",
   "version": "3.9.12"
  }
 },
 "nbformat": 4,
 "nbformat_minor": 5
}
