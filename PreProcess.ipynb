{
  "nbformat": 4,
  "nbformat_minor": 0,
  "metadata": {
    "colab": {
      "name": "PreProcess.ipynb",
      "provenance": [],
      "authorship_tag": "ABX9TyP38u4uFZjA0/ezht3dXpNO",
      "include_colab_link": true
    },
    "kernelspec": {
      "name": "python3",
      "display_name": "Python 3"
    },
    "language_info": {
      "name": "python"
    }
  },
  "cells": [
    {
      "cell_type": "markdown",
      "metadata": {
        "id": "view-in-github",
        "colab_type": "text"
      },
      "source": [
        "<a href=\"https://colab.research.google.com/github/mayuravaani/AI/blob/preprocessing/PreProcess.ipynb\" target=\"_parent\"><img src=\"https://colab.research.google.com/assets/colab-badge.svg\" alt=\"Open In Colab\"/></a>"
      ]
    },
    {
      "cell_type": "code",
      "execution_count": 3,
      "metadata": {
        "id": "K_aNAWd6zrMQ"
      },
      "outputs": [],
      "source": [
        "import numpy as np\n",
        "from sklearn import preprocessing"
      ]
    },
    {
      "cell_type": "code",
      "source": [
        "Input_data = np.array([[2.1, -1.9, 5.5], [-1.5, 2.4, 3.5], [0.5, -7.9, 5.6], [5.9, 2.3, -5.8]])"
      ],
      "metadata": {
        "id": "P4C82e5g3HWu"
      },
      "execution_count": 4,
      "outputs": []
    },
    {
      "cell_type": "code",
      "source": [
        ""
      ],
      "metadata": {
        "id": "VlbCUsPH3XF8"
      },
      "execution_count": null,
      "outputs": []
    },
    {
      "cell_type": "markdown",
      "source": [
        "Technique for preprocessing\n",
        "* Binarization\n",
        "* Mean Removal\n",
        "* Scaling\n",
        "* Normalization"
      ],
      "metadata": {
        "id": "xzYZZbW-3r_U"
      }
    },
    {
      "cell_type": "markdown",
      "source": [
        "Binarization: when we need to convert numerical value into boolean value;"
      ],
      "metadata": {
        "id": "W1KCwoOY45Hb"
      }
    },
    {
      "cell_type": "code",
      "source": [
        "data_binarized = preprocessing.Binarizer(threshold=0.5).transform(Input_data)\n",
        "print(\"\\nBinarized data:\\n\", data_binarized)"
      ],
      "metadata": {
        "colab": {
          "base_uri": "https://localhost:8080/"
        },
        "id": "IARrzDhN3930",
        "outputId": "82fab012-e26d-4095-c573-fdb900715cc8"
      },
      "execution_count": 8,
      "outputs": [
        {
          "output_type": "stream",
          "name": "stdout",
          "text": [
            "\n",
            "Binarized data:\n",
            " [[1. 0. 1.]\n",
            " [0. 1. 1.]\n",
            " [0. 0. 1.]\n",
            " [1. 1. 0.]]\n"
          ]
        }
      ]
    },
    {
      "cell_type": "markdown",
      "source": [
        "Mean Removal: Basically it is used to eliminate the mean from feature vector so that every feature is centered on zero. "
      ],
      "metadata": {
        "id": "EPDelbcv6Ljc"
      }
    },
    {
      "cell_type": "code",
      "source": [
        "print(\"Mean =\", Input_data.mean(axis=0))\n",
        "print(\"Std deviation =\", Input_data.std(axis=0))\n",
        "print(\"Mean =\", Input_data.mean())\n",
        "print(\"Std deviation =\", Input_data.std())"
      ],
      "metadata": {
        "colab": {
          "base_uri": "https://localhost:8080/"
        },
        "id": "6rT-q1zY5HkN",
        "outputId": "ff1344a5-1c90-4ae4-8df8-c3bfb6d69d1c"
      },
      "execution_count": 14,
      "outputs": [
        {
          "output_type": "stream",
          "name": "stdout",
          "text": [
            "Mean = [ 1.75  -1.275  2.2  ]\n",
            "Std deviation = [2.71431391 4.20022321 4.69414529]\n",
            "Mean = 0.8916666666666666\n",
            "Std deviation = 4.249991830057507\n"
          ]
        }
      ]
    },
    {
      "cell_type": "code",
      "source": [
        ""
      ],
      "metadata": {
        "id": "vHE7oXq27HRs"
      },
      "execution_count": null,
      "outputs": []
    }
  ]
}