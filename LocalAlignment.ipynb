{
  "nbformat": 4,
  "nbformat_minor": 0,
  "metadata": {
    "colab": {
      "name": "LocalAlignment.ipynb",
      "provenance": [],
      "collapsed_sections": [],
      "authorship_tag": "ABX9TyMpZdY5O6TwEyGZGh8YfWjG",
      "include_colab_link": true
    },
    "kernelspec": {
      "name": "python3",
      "display_name": "Python 3"
    },
    "language_info": {
      "name": "python"
    }
  },
  "cells": [
    {
      "cell_type": "markdown",
      "metadata": {
        "id": "view-in-github",
        "colab_type": "text"
      },
      "source": [
        "<a href=\"https://colab.research.google.com/github/mayuravaani/AI/blob/main/LocalAlignment.ipynb\" target=\"_parent\"><img src=\"https://colab.research.google.com/assets/colab-badge.svg\" alt=\"Open In Colab\"/></a>"
      ]
    },
    {
      "cell_type": "code",
      "execution_count": 2,
      "metadata": {
        "colab": {
          "base_uri": "https://localhost:8080/"
        },
        "id": "-NAM6_NSd6hM",
        "outputId": "9256bb7d-5399-4e15-a3d0-92f4238643fa"
      },
      "outputs": [
        {
          "output_type": "execute_result",
          "data": {
            "text/plain": [
              "[[0, 0, 0, 0, 0, 0, 0, 0, 0, 0, 0, 0, 0, 0, 0, 0, 0, 0],\n",
              " [0, 0, 0, 0, 0, 0, 0, 0, 0, 0, 0, 0, 0, 0, 0, 0, 0, 0],\n",
              " [0, 0, 0, 0, 0, 0, 0, 0, 0, 0, 0, 0, 0, 0, 0, 0, 0, 0],\n",
              " [0, 0, 0, 0, 0, 0, 0, 0, 0, 0, 0, 0, 0, 0, 0, 0, 0, 0],\n",
              " [0, 0, 0, 0, 0, 0, 0, 0, 0, 0, 0, 0, 0, 0, 0, 0, 0, 0],\n",
              " [0, 0, 0, 0, 0, 0, 0, 0, 0, 0, 0, 0, 0, 0, 0, 0, 0, 0],\n",
              " [0, 0, 0, 0, 0, 0, 0, 0, 0, 0, 0, 0, 0, 0, 0, 0, 0, 0],\n",
              " [0, 0, 0, 0, 0, 0, 0, 0, 0, 0, 0, 0, 0, 0, 0, 0, 0, 0],\n",
              " [0, 0, 0, 0, 0, 0, 0, 0, 0, 0, 0, 0, 0, 0, 0, 0, 0, 0],\n",
              " [0, 0, 0, 0, 0, 0, 0, 0, 0, 0, 0, 0, 0, 0, 0, 0, 0, 0],\n",
              " [0, 0, 0, 0, 0, 0, 0, 0, 0, 0, 0, 0, 0, 0, 0, 0, 0, 0],\n",
              " [0, 0, 0, 0, 0, 0, 0, 0, 0, 0, 0, 0, 0, 0, 0, 0, 0, 0],\n",
              " [0, 0, 0, 0, 0, 0, 0, 0, 0, 0, 0, 0, 0, 0, 0, 0, 0, 0]]"
            ]
          },
          "metadata": {},
          "execution_count": 2
        }
      ],
      "source": [
        "def getMatrix(sizeX, sizeY):\n",
        "    matrix = []\n",
        "    for i in range(len(sizeY)+1):\n",
        "      subMatrix = []\n",
        "      for j in range(len(sizeX)+1):\n",
        "        subMatrix.append(0)\n",
        "      matrix.append(subMatrix)\n",
        "    return  matrix\n",
        "\n",
        "x = \"catdobfishdoggggg\"\n",
        "y = \"dobkkdoggggg\"\n",
        "getMatrix(x,y)"
      ]
    },
    {
      "cell_type": "code",
      "source": [
        "def getTraceBackMatrix(sizeX, sizeY):\n",
        "  matrix = []\n",
        "  for i in range(len(sizeY)+1):\n",
        "    subMatrix = [];\n",
        "    for i in range(len(sizeX)+ 1):\n",
        "      subMatrix.append(subMatrix)\n",
        "    matrix.append(subMatrix)\n",
        "  print(matrix)\n",
        "  print(\"----------\")\n",
        "  for j in range(1, len(sizeX)+1):\n",
        "    matrix[0][j] = 'left'\n",
        "  for i in range(1, len(sizeY)+ 1):\n",
        "    matrix[i][0] = 'up'\n",
        "  matrix[0][0] = 'done'\n",
        "  return matrix\n",
        "\n",
        "getTraceBackMatrix(x,y)\n",
        "\n"
      ],
      "metadata": {
        "colab": {
          "base_uri": "https://localhost:8080/"
        },
        "id": "rNpa23Ace3S5",
        "outputId": "8517ddc8-cf96-428a-c3f8-1fe3e1574a57"
      },
      "execution_count": 3,
      "outputs": [
        {
          "output_type": "stream",
          "name": "stdout",
          "text": [
            "[[[...], [...], [...], [...], [...], [...], [...], [...], [...], [...], [...], [...], [...], [...], [...], [...], [...], [...]], [[...], [...], [...], [...], [...], [...], [...], [...], [...], [...], [...], [...], [...], [...], [...], [...], [...], [...]], [[...], [...], [...], [...], [...], [...], [...], [...], [...], [...], [...], [...], [...], [...], [...], [...], [...], [...]], [[...], [...], [...], [...], [...], [...], [...], [...], [...], [...], [...], [...], [...], [...], [...], [...], [...], [...]], [[...], [...], [...], [...], [...], [...], [...], [...], [...], [...], [...], [...], [...], [...], [...], [...], [...], [...]], [[...], [...], [...], [...], [...], [...], [...], [...], [...], [...], [...], [...], [...], [...], [...], [...], [...], [...]], [[...], [...], [...], [...], [...], [...], [...], [...], [...], [...], [...], [...], [...], [...], [...], [...], [...], [...]], [[...], [...], [...], [...], [...], [...], [...], [...], [...], [...], [...], [...], [...], [...], [...], [...], [...], [...]], [[...], [...], [...], [...], [...], [...], [...], [...], [...], [...], [...], [...], [...], [...], [...], [...], [...], [...]], [[...], [...], [...], [...], [...], [...], [...], [...], [...], [...], [...], [...], [...], [...], [...], [...], [...], [...]], [[...], [...], [...], [...], [...], [...], [...], [...], [...], [...], [...], [...], [...], [...], [...], [...], [...], [...]], [[...], [...], [...], [...], [...], [...], [...], [...], [...], [...], [...], [...], [...], [...], [...], [...], [...], [...]], [[...], [...], [...], [...], [...], [...], [...], [...], [...], [...], [...], [...], [...], [...], [...], [...], [...], [...]]]\n",
            "----------\n"
          ]
        },
        {
          "output_type": "execute_result",
          "data": {
            "text/plain": [
              "[['done',\n",
              "  'left',\n",
              "  'left',\n",
              "  'left',\n",
              "  'left',\n",
              "  'left',\n",
              "  'left',\n",
              "  'left',\n",
              "  'left',\n",
              "  'left',\n",
              "  'left',\n",
              "  'left',\n",
              "  'left',\n",
              "  'left',\n",
              "  'left',\n",
              "  'left',\n",
              "  'left',\n",
              "  'left'],\n",
              " ['up',\n",
              "  [...],\n",
              "  [...],\n",
              "  [...],\n",
              "  [...],\n",
              "  [...],\n",
              "  [...],\n",
              "  [...],\n",
              "  [...],\n",
              "  [...],\n",
              "  [...],\n",
              "  [...],\n",
              "  [...],\n",
              "  [...],\n",
              "  [...],\n",
              "  [...],\n",
              "  [...],\n",
              "  [...]],\n",
              " ['up',\n",
              "  [...],\n",
              "  [...],\n",
              "  [...],\n",
              "  [...],\n",
              "  [...],\n",
              "  [...],\n",
              "  [...],\n",
              "  [...],\n",
              "  [...],\n",
              "  [...],\n",
              "  [...],\n",
              "  [...],\n",
              "  [...],\n",
              "  [...],\n",
              "  [...],\n",
              "  [...],\n",
              "  [...]],\n",
              " ['up',\n",
              "  [...],\n",
              "  [...],\n",
              "  [...],\n",
              "  [...],\n",
              "  [...],\n",
              "  [...],\n",
              "  [...],\n",
              "  [...],\n",
              "  [...],\n",
              "  [...],\n",
              "  [...],\n",
              "  [...],\n",
              "  [...],\n",
              "  [...],\n",
              "  [...],\n",
              "  [...],\n",
              "  [...]],\n",
              " ['up',\n",
              "  [...],\n",
              "  [...],\n",
              "  [...],\n",
              "  [...],\n",
              "  [...],\n",
              "  [...],\n",
              "  [...],\n",
              "  [...],\n",
              "  [...],\n",
              "  [...],\n",
              "  [...],\n",
              "  [...],\n",
              "  [...],\n",
              "  [...],\n",
              "  [...],\n",
              "  [...],\n",
              "  [...]],\n",
              " ['up',\n",
              "  [...],\n",
              "  [...],\n",
              "  [...],\n",
              "  [...],\n",
              "  [...],\n",
              "  [...],\n",
              "  [...],\n",
              "  [...],\n",
              "  [...],\n",
              "  [...],\n",
              "  [...],\n",
              "  [...],\n",
              "  [...],\n",
              "  [...],\n",
              "  [...],\n",
              "  [...],\n",
              "  [...]],\n",
              " ['up',\n",
              "  [...],\n",
              "  [...],\n",
              "  [...],\n",
              "  [...],\n",
              "  [...],\n",
              "  [...],\n",
              "  [...],\n",
              "  [...],\n",
              "  [...],\n",
              "  [...],\n",
              "  [...],\n",
              "  [...],\n",
              "  [...],\n",
              "  [...],\n",
              "  [...],\n",
              "  [...],\n",
              "  [...]],\n",
              " ['up',\n",
              "  [...],\n",
              "  [...],\n",
              "  [...],\n",
              "  [...],\n",
              "  [...],\n",
              "  [...],\n",
              "  [...],\n",
              "  [...],\n",
              "  [...],\n",
              "  [...],\n",
              "  [...],\n",
              "  [...],\n",
              "  [...],\n",
              "  [...],\n",
              "  [...],\n",
              "  [...],\n",
              "  [...]],\n",
              " ['up',\n",
              "  [...],\n",
              "  [...],\n",
              "  [...],\n",
              "  [...],\n",
              "  [...],\n",
              "  [...],\n",
              "  [...],\n",
              "  [...],\n",
              "  [...],\n",
              "  [...],\n",
              "  [...],\n",
              "  [...],\n",
              "  [...],\n",
              "  [...],\n",
              "  [...],\n",
              "  [...],\n",
              "  [...]],\n",
              " ['up',\n",
              "  [...],\n",
              "  [...],\n",
              "  [...],\n",
              "  [...],\n",
              "  [...],\n",
              "  [...],\n",
              "  [...],\n",
              "  [...],\n",
              "  [...],\n",
              "  [...],\n",
              "  [...],\n",
              "  [...],\n",
              "  [...],\n",
              "  [...],\n",
              "  [...],\n",
              "  [...],\n",
              "  [...]],\n",
              " ['up',\n",
              "  [...],\n",
              "  [...],\n",
              "  [...],\n",
              "  [...],\n",
              "  [...],\n",
              "  [...],\n",
              "  [...],\n",
              "  [...],\n",
              "  [...],\n",
              "  [...],\n",
              "  [...],\n",
              "  [...],\n",
              "  [...],\n",
              "  [...],\n",
              "  [...],\n",
              "  [...],\n",
              "  [...]],\n",
              " ['up',\n",
              "  [...],\n",
              "  [...],\n",
              "  [...],\n",
              "  [...],\n",
              "  [...],\n",
              "  [...],\n",
              "  [...],\n",
              "  [...],\n",
              "  [...],\n",
              "  [...],\n",
              "  [...],\n",
              "  [...],\n",
              "  [...],\n",
              "  [...],\n",
              "  [...],\n",
              "  [...],\n",
              "  [...]],\n",
              " ['up',\n",
              "  [...],\n",
              "  [...],\n",
              "  [...],\n",
              "  [...],\n",
              "  [...],\n",
              "  [...],\n",
              "  [...],\n",
              "  [...],\n",
              "  [...],\n",
              "  [...],\n",
              "  [...],\n",
              "  [...],\n",
              "  [...],\n",
              "  [...],\n",
              "  [...],\n",
              "  [...],\n",
              "  [...]]]"
            ]
          },
          "metadata": {},
          "execution_count": 3
        }
      ]
    },
    {
      "cell_type": "code",
      "source": [
        "class ScoreParams:\n",
        "  def __init__(self, gap, match, mismatch):\n",
        "    self.gap = gap\n",
        "    self.match = match\n",
        "    self.mismatch = mismatch\n",
        "    "
      ],
      "metadata": {
        "id": "L4PurAQLjXp5"
      },
      "execution_count": 4,
      "outputs": []
    },
    {
      "cell_type": "code",
      "source": [
        "y = \"aabc\"\n",
        "x = \"ab\"\n",
        "matrix = getMatrix(x, y)\n",
        "print(matrix)\n",
        "best = 0\n",
        "optLoc = (0,0)\n",
        "traceMatrix = getTraceBackMatrix(x, y)\n",
        "score = ScoreParams(-7, 10, -6)\n",
        "for i in range(1,len(y)+1):\n",
        "  for j in range(1, len(x)+1):\n",
        "    left = matrix[i][j-1] + score.gap\n",
        "    down = matrix[i-1][j] + score.gap\n",
        "    diag = matrix[i-1][j-1] + score.match if(y[i-1] == x[j-1])  else score.mismatch\n",
        "    matrix[i][j] = max(left, down, diag, 0)\n",
        "    if matrix[i][j] == left:\n",
        "       traceMatrix[i][j] = \"left\"\n",
        "    elif matrix[i][j] ==  down:\n",
        "      traceMatrix[i][j] = \"down\"\n",
        "    elif matrix[i][j] == diag:\n",
        "      traceMatrix[i][j] = \"diag\"\n",
        "    else:\n",
        "      traceMatrix[i][j] = \"0\"\n",
        "    if(matrix[i][j] >= best):\n",
        "      best = matrix[i][j]\n",
        "      optLoc = (i,j)\n",
        "\n",
        "    print(left, \" u\")\n",
        "  print(\"\\n\")\n",
        "print(matrix)\n",
        "print(traceMatrix)\n",
        "print(best)\n",
        "print(optLoc)"
      ],
      "metadata": {
        "colab": {
          "base_uri": "https://localhost:8080/"
        },
        "id": "kDVqC9M8FmEr",
        "outputId": "26a7ee2b-5701-4ea2-acaf-b21e4bb875b5"
      },
      "execution_count": 33,
      "outputs": [
        {
          "output_type": "stream",
          "name": "stdout",
          "text": [
            "[[0, 0, 0], [0, 0, 0], [0, 0, 0], [0, 0, 0], [0, 0, 0]]\n",
            "[[[...], [...], [...]], [[...], [...], [...]], [[...], [...], [...]], [[...], [...], [...]], [[...], [...], [...]]]\n",
            "----------\n",
            "-7  u\n",
            "3  u\n",
            "\n",
            "\n",
            "-7  u\n",
            "3  u\n",
            "\n",
            "\n",
            "-7  u\n",
            "-4  u\n",
            "\n",
            "\n",
            "-7  u\n",
            "-7  u\n",
            "\n",
            "\n",
            "[[0, 0, 0], [0, 10, 3], [0, 10, 3], [0, 3, 20], [0, 0, 13]]\n",
            "[['done', 'left', 'left'], ['up', 'diag', 'left'], ['up', 'diag', 'left'], ['up', 'down', 'diag'], ['up', '0', 'down']]\n",
            "20\n",
            "(3, 2)\n"
          ]
        }
      ]
    },
    {
      "cell_type": "code",
      "source": [
        "seq = \"\"\n",
        "i = optLoc[0]\n",
        "j = optLoc[1]\n",
        "while( i > 0 or j > 0):\n",
        "  if(traceMatrix[i][j] == \"diag\"):\n",
        "    seq = seq + y[i-1]\n",
        "    i =  i - 1\n",
        "    j = j - 1\n",
        "  elif(traceMatrix[i][j] == \"left\"):\n",
        "    j = j - 1\n",
        "  elif(traceMatrix[i][j] == \"down\"):\n",
        "    i = i - 1\n",
        "  elif(traceMatrix[i][j] ==  \"done\"):\n",
        "    break\n",
        "  else:\n",
        "    break\n",
        "print(seq[::-1])"
      ],
      "metadata": {
        "colab": {
          "base_uri": "https://localhost:8080/"
        },
        "id": "fidARNHJFmb4",
        "outputId": "1b2bd95a-5d8d-4bd1-fc9e-f2046872b82c"
      },
      "execution_count": 35,
      "outputs": [
        {
          "output_type": "stream",
          "name": "stdout",
          "text": [
            "ab\n"
          ]
        }
      ]
    },
    {
      "cell_type": "code",
      "source": [
        ""
      ],
      "metadata": {
        "id": "M4y9scakGQ3M"
      },
      "execution_count": null,
      "outputs": []
    },
    {
      "cell_type": "code",
      "source": [
        ""
      ],
      "metadata": {
        "id": "QDAAIrt3GRiw"
      },
      "execution_count": null,
      "outputs": []
    },
    {
      "cell_type": "code",
      "source": [
        ""
      ],
      "metadata": {
        "id": "35OUQR26FmyY"
      },
      "execution_count": null,
      "outputs": []
    },
    {
      "cell_type": "code",
      "source": [
        "def localAlign(x, y, score):\n",
        "  matrix = getMatrix(x, y)\n",
        "  traceBack = getTraceBackMatrix(x, y)\n",
        "  best = 0\n",
        "  optLoc = (0,0)\n",
        "\n",
        "  for i in range(1, len(y)+1):\n",
        "    for j in range(1, len(x)+1):\n",
        "      left = matrix[i][j-1] + score.gap\n",
        "      up = matrix[i-1][j] + score.gap\n",
        "      diag = matrix[i][j] + (score.match if x[j-1] == y[i-1] else score.mismatch)\n",
        "      matrix[i][j] = max(left, up, diag, 0)\n",
        "      \n",
        "      if matrix[i][j] == left:\n",
        "        traceBack[i][j] = 'left'\n",
        "      elif matrix[i][j] == up:\n",
        "        traceBack[i][j] = 'up'\n",
        "      elif matrix[i][j] == diag:\n",
        "        traceBack[i][j] = 'diag'\n",
        "      else:\n",
        "        traceBack[i][j] = '0'\n",
        "      \n",
        "      if matrix[i][j] >= best:\n",
        "        best = matrix[i][j]\n",
        "        optLoc = (i, j)\n",
        "  return best, optLoc, matrix, traceBack\n",
        "score = ScoreParams(-7, 10, -5)\n",
        "best, optLoc, matrix, traceBack = localAlign(x, y, score)  \n",
        "print(matrix)"
      ],
      "metadata": {
        "colab": {
          "base_uri": "https://localhost:8080/"
        },
        "id": "fPMWPvlGnQN-",
        "outputId": "f5b05156-1a2e-4369-fb24-a8fa61ea7a38"
      },
      "execution_count": 27,
      "outputs": [
        {
          "output_type": "stream",
          "name": "stdout",
          "text": [
            "[[[...], [...], [...]], [[...], [...], [...]], [[...], [...], [...]], [[...], [...], [...]], [[...], [...], [...]]]\n",
            "----------\n",
            "[[0, 0, 0], [0, 10, 3], [0, 10, 3], [0, 3, 10], [0, 0, 3]]\n"
          ]
        }
      ]
    },
    {
      "cell_type": "code",
      "source": [
        "def getSequence(x, best, optLoc, matrix, traceBack):\n",
        "  seq = ''\n",
        "  i = optLoc[0]\n",
        "  j = optLoc[1]\n",
        "\n",
        "  while(i > 0 or j > 0):\n",
        "    if traceBack[i][j] == 'diag':\n",
        "      seq += y[i-1]\n",
        "      i = i - 1\n",
        "      j = j - 1\n",
        "    elif traceBack[i][j] == 'left':\n",
        "      j = j -1\n",
        "    elif traceBack[i][j] == 'up':\n",
        "      i = i - 1\n",
        "    elif traceBack[i][j] == 'done':\n",
        "      break\n",
        "    else:\n",
        "      break\n",
        "  return seq[::-1]"
      ],
      "metadata": {
        "id": "R1sVHDlIqibz"
      },
      "execution_count": null,
      "outputs": []
    },
    {
      "cell_type": "code",
      "source": [
        "getSequence(x, best, optLoc, matrix, traceBack)"
      ],
      "metadata": {
        "colab": {
          "base_uri": "https://localhost:8080/",
          "height": 36
        },
        "id": "6XTT8ZGmr-cg",
        "outputId": "360b2c2b-d761-4c15-945a-c5854232b426"
      },
      "execution_count": null,
      "outputs": [
        {
          "output_type": "execute_result",
          "data": {
            "text/plain": [
              "'doggggg'"
            ],
            "application/vnd.google.colaboratory.intrinsic+json": {
              "type": "string"
            }
          },
          "metadata": {},
          "execution_count": 37
        }
      ]
    },
    {
      "cell_type": "code",
      "source": [
        ""
      ],
      "metadata": {
        "id": "4Z8r2TzysIwH"
      },
      "execution_count": null,
      "outputs": []
    }
  ]
}